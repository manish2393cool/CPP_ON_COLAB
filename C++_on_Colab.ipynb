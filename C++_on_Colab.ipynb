{
  "nbformat": 4,
  "nbformat_minor": 0,
  "metadata": {
    "colab": {
      "name": "C++ on Colab.ipynb",
      "provenance": [],
      "collapsed_sections": [],
      "include_colab_link": true
    },
    "kernelspec": {
      "name": "python3",
      "display_name": "Python 3"
    },
    "accelerator": "GPU"
  },
  "cells": [
    {
      "cell_type": "markdown",
      "metadata": {
        "id": "view-in-github",
        "colab_type": "text"
      },
      "source": [
        "<a href=\"https://colab.research.google.com/github/manish2393cool/CPP_ON_COLAB/blob/master/C%2B%2B_on_Colab.ipynb\" target=\"_parent\"><img src=\"https://colab.research.google.com/assets/colab-badge.svg\" alt=\"Open In Colab\"/></a>"
      ]
    },
    {
      "cell_type": "code",
      "metadata": {
        "id": "Azf91OtajTab",
        "colab_type": "code",
        "outputId": "58cd9e30-3fa0-42e9-8aa0-5385c9bde69a",
        "colab": {
          "base_uri": "https://localhost:8080/",
          "height": 35
        }
      },
      "source": [
        "!apt update -qq"
      ],
      "execution_count": 1,
      "outputs": [
        {
          "output_type": "stream",
          "text": [
            "125 packages can be upgraded. Run 'apt list --upgradable' to see them.\n"
          ],
          "name": "stdout"
        }
      ]
    },
    {
      "cell_type": "code",
      "metadata": {
        "id": "PKBV7iXgjdfJ",
        "colab_type": "code",
        "outputId": "3b0e917f-5ceb-4a70-8a52-4906faa2b015",
        "colab": {
          "base_uri": "https://localhost:8080/",
          "height": 331
        }
      },
      "source": [
        "!wget https://developer.nvidia.com/compute/cuda/8.0/Prod2/local_installers/cuda-repo-ubuntu1604-8-0-local-ga2_8.0.61-1_amd64-deb"
      ],
      "execution_count": 2,
      "outputs": [
        {
          "output_type": "stream",
          "text": [
            "--2019-09-28 11:45:25--  https://developer.nvidia.com/compute/cuda/8.0/Prod2/local_installers/cuda-repo-ubuntu1604-8-0-local-ga2_8.0.61-1_amd64-deb\n",
            "Resolving developer.nvidia.com (developer.nvidia.com)... 192.229.189.146\n",
            "Connecting to developer.nvidia.com (developer.nvidia.com)|192.229.189.146|:443... connected.\n",
            "HTTP request sent, awaiting response... 302 Found\n",
            "Location: https://developer.download.nvidia.com/compute/cuda/8.0/secure/Prod2/local_installers/cuda-repo-ubuntu1604-8-0-local-ga2_8.0.61-1_amd64.deb?ZE9Xa5QOdXEFvKDZOYdFp4vKHkLjB2EQKoHODVLoB1orYtavlTnI4mM_9k81U6JIVc4-Mkdn7jiCKnsVlMbUfgWfJfXUpirJC1KONbvTZyOyxIhm8xumam84UGfRmDHEyVHhf2tn_Wg0lqZDP0wUxQ0tnkoqy9SjBZWfEcs7SNe_X6f7FzVpCPWFhWfxHQ2p_rvLxQBf1HpbjAvjnDn3wYMf8A [following]\n",
            "--2019-09-28 11:45:27--  https://developer.download.nvidia.com/compute/cuda/8.0/secure/Prod2/local_installers/cuda-repo-ubuntu1604-8-0-local-ga2_8.0.61-1_amd64.deb?ZE9Xa5QOdXEFvKDZOYdFp4vKHkLjB2EQKoHODVLoB1orYtavlTnI4mM_9k81U6JIVc4-Mkdn7jiCKnsVlMbUfgWfJfXUpirJC1KONbvTZyOyxIhm8xumam84UGfRmDHEyVHhf2tn_Wg0lqZDP0wUxQ0tnkoqy9SjBZWfEcs7SNe_X6f7FzVpCPWFhWfxHQ2p_rvLxQBf1HpbjAvjnDn3wYMf8A\n",
            "Resolving developer.download.nvidia.com (developer.download.nvidia.com)... 192.229.232.112, 2606:2800:247:2063:46e:21d:825:102e\n",
            "Connecting to developer.download.nvidia.com (developer.download.nvidia.com)|192.229.232.112|:443... connected.\n",
            "HTTP request sent, awaiting response... 200 OK\n",
            "Length: 1913589814 (1.8G) [application/x-deb]\n",
            "Saving to: ‘cuda-repo-ubuntu1604-8-0-local-ga2_8.0.61-1_amd64-deb’\n",
            "\n",
            "cuda-repo-ubuntu160 100%[===================>]   1.78G   177MB/s    in 9.9s    \n",
            "\n",
            "2019-09-28 11:45:37 (184 MB/s) - ‘cuda-repo-ubuntu1604-8-0-local-ga2_8.0.61-1_amd64-deb’ saved [1913589814/1913589814]\n",
            "\n"
          ],
          "name": "stdout"
        }
      ]
    },
    {
      "cell_type": "code",
      "metadata": {
        "id": "vrfKbLekdPDO",
        "colab_type": "code",
        "colab": {}
      },
      "source": [
        "!dpkg -i cuda-repo-ubuntu1604–8–0-local-ga2_8.0.61–1_amd64-deb 2> /dev/null"
      ],
      "execution_count": 0,
      "outputs": []
    },
    {
      "cell_type": "code",
      "metadata": {
        "id": "A9Lo4FoydC7q",
        "colab_type": "code",
        "outputId": "fe796c81-3a85-47ed-f27d-72d074d85248",
        "colab": {
          "base_uri": "https://localhost:8080/",
          "height": 35
        }
      },
      "source": [
        "!apt-key add /var/cuda-repo-8-0-local-ga2/7fa2af80.pub"
      ],
      "execution_count": 4,
      "outputs": [
        {
          "output_type": "stream",
          "text": [
            "gpg: can't open '/var/cuda-repo-8-0-local-ga2/7fa2af80.pub': No such file or directory\n"
          ],
          "name": "stdout"
        }
      ]
    },
    {
      "cell_type": "code",
      "metadata": {
        "id": "vuIFPr-leAFV",
        "colab_type": "code",
        "colab": {}
      },
      "source": [
        "!apt-get update -qq"
      ],
      "execution_count": 0,
      "outputs": []
    },
    {
      "cell_type": "code",
      "metadata": {
        "id": "5LCW1tnxj-pk",
        "colab_type": "code",
        "outputId": "a8e77ed5-cda0-4124-f1e4-a180519e77f3",
        "colab": {
          "base_uri": "https://localhost:8080/",
          "height": 1000
        }
      },
      "source": [
        "!apt --fix-broken install\n",
        "!apt-get install cuda gcc-5 g++-5 -y -qq;"
      ],
      "execution_count": 6,
      "outputs": [
        {
          "output_type": "stream",
          "text": [
            "\rReading package lists... 0%\r\rReading package lists... 0%\r\rReading package lists... 0%\r\rReading package lists... 7%\r\rReading package lists... 7%\r\rReading package lists... 7%\r\rReading package lists... 7%\r\rReading package lists... 67%\r\rReading package lists... 67%\r\rReading package lists... 68%\r\rReading package lists... 68%\r\rReading package lists... 74%\r\rReading package lists... 74%\r\rReading package lists... 74%\r\rReading package lists... 74%\r\rReading package lists... 83%\r\rReading package lists... 83%\r\rReading package lists... 83%\r\rReading package lists... 83%\r\rReading package lists... 83%\r\rReading package lists... 83%\r\rReading package lists... 83%\r\rReading package lists... 83%\r\rReading package lists... 88%\r\rReading package lists... 88%\r\rReading package lists... 88%\r\rReading package lists... 88%\r\rReading package lists... 91%\r\rReading package lists... 93%\r\rReading package lists... 93%\r\rReading package lists... 93%\r\rReading package lists... 93%\r\rReading package lists... 94%\r\rReading package lists... 94%\r\rReading package lists... 94%\r\rReading package lists... 94%\r\rReading package lists... 95%\r\rReading package lists... 95%\r\rReading package lists... 98%\r\rReading package lists... 98%\r\rReading package lists... 98%\r\rReading package lists... 98%\r\rReading package lists... Done\r\n",
            "\rBuilding dependency tree... 0%\r\rBuilding dependency tree... 0%\r\rBuilding dependency tree... 50%\r\rBuilding dependency tree... 50%\r\rBuilding dependency tree       \r\n",
            "\rReading state information... 0%\r\rReading state information... 0%\r\rReading state information... Done\r\n",
            "0 upgraded, 0 newly installed, 0 to remove and 125 not upgraded.\n",
            "Extracting templates from packages: 100%\n",
            "Selecting previously unselected package gcc-5-base:amd64.\n",
            "(Reading database ... 131183 files and directories currently installed.)\n",
            "Preparing to unpack .../00-gcc-5-base_5.5.0-12ubuntu1_amd64.deb ...\n",
            "Unpacking gcc-5-base:amd64 (5.5.0-12ubuntu1) ...\n",
            "Selecting previously unselected package libisl15:amd64.\n",
            "Preparing to unpack .../01-libisl15_0.18-4_amd64.deb ...\n",
            "Unpacking libisl15:amd64 (0.18-4) ...\n",
            "Selecting previously unselected package cpp-5.\n",
            "Preparing to unpack .../02-cpp-5_5.5.0-12ubuntu1_amd64.deb ...\n",
            "Unpacking cpp-5 (5.5.0-12ubuntu1) ...\n",
            "Selecting previously unselected package cuda-license-10-1.\n",
            "Preparing to unpack .../03-cuda-license-10-1_10.1.243-1_amd64.deb ...\n",
            "Unpacking cuda-license-10-1 (10.1.243-1) ...\n",
            "Selecting previously unselected package cuda-misc-headers-10-1.\n",
            "Preparing to unpack .../04-cuda-misc-headers-10-1_10.1.243-1_amd64.deb ...\n",
            "Unpacking cuda-misc-headers-10-1 (10.1.243-1) ...\n",
            "Selecting previously unselected package cuda-nvcc-10-1.\n",
            "Preparing to unpack .../05-cuda-nvcc-10-1_10.1.243-1_amd64.deb ...\n",
            "Unpacking cuda-nvcc-10-1 (10.1.243-1) ...\n",
            "Selecting previously unselected package cuda-cuobjdump-10-1.\n",
            "Preparing to unpack .../06-cuda-cuobjdump-10-1_10.1.243-1_amd64.deb ...\n",
            "Unpacking cuda-cuobjdump-10-1 (10.1.243-1) ...\n",
            "Selecting previously unselected package cuda-nvprune-10-1.\n",
            "Preparing to unpack .../07-cuda-nvprune-10-1_10.1.243-1_amd64.deb ...\n",
            "Unpacking cuda-nvprune-10-1 (10.1.243-1) ...\n",
            "Selecting previously unselected package cuda-compiler-10-1.\n",
            "Preparing to unpack .../08-cuda-compiler-10-1_10.1.243-1_amd64.deb ...\n",
            "Unpacking cuda-compiler-10-1 (10.1.243-1) ...\n",
            "Selecting previously unselected package cuda-nvdisasm-10-1.\n",
            "Preparing to unpack .../09-cuda-nvdisasm-10-1_10.1.243-1_amd64.deb ...\n",
            "Unpacking cuda-nvdisasm-10-1 (10.1.243-1) ...\n",
            "Selecting previously unselected package cuda-gdb-10-1.\n",
            "Preparing to unpack .../10-cuda-gdb-10-1_10.1.243-1_amd64.deb ...\n",
            "Unpacking cuda-gdb-10-1 (10.1.243-1) ...\n",
            "Selecting previously unselected package cuda-nvprof-10-1.\n",
            "Preparing to unpack .../11-cuda-nvprof-10-1_10.1.243-1_amd64.deb ...\n",
            "Unpacking cuda-nvprof-10-1 (10.1.243-1) ...\n",
            "Selecting previously unselected package cuda-sanitizer-api-10-1.\n",
            "Preparing to unpack .../12-cuda-sanitizer-api-10-1_10.1.243-1_amd64.deb ...\n",
            "Unpacking cuda-sanitizer-api-10-1 (10.1.243-1) ...\n",
            "Selecting previously unselected package cuda-memcheck-10-1.\n",
            "Preparing to unpack .../13-cuda-memcheck-10-1_10.1.243-1_amd64.deb ...\n",
            "Unpacking cuda-memcheck-10-1 (10.1.243-1) ...\n",
            "Selecting previously unselected package cuda-cudart-10-1.\n",
            "Preparing to unpack .../14-cuda-cudart-10-1_10.1.243-1_amd64.deb ...\n",
            "Unpacking cuda-cudart-10-1 (10.1.243-1) ...\n",
            "Selecting previously unselected package cuda-driver-dev-10-1.\n",
            "Preparing to unpack .../15-cuda-driver-dev-10-1_10.1.243-1_amd64.deb ...\n",
            "Unpacking cuda-driver-dev-10-1 (10.1.243-1) ...\n",
            "Selecting previously unselected package cuda-cudart-dev-10-1.\n",
            "Preparing to unpack .../16-cuda-cudart-dev-10-1_10.1.243-1_amd64.deb ...\n",
            "Unpacking cuda-cudart-dev-10-1 (10.1.243-1) ...\n",
            "Selecting previously unselected package cuda-cupti-10-1.\n",
            "Preparing to unpack .../17-cuda-cupti-10-1_10.1.243-1_amd64.deb ...\n",
            "Unpacking cuda-cupti-10-1 (10.1.243-1) ...\n",
            "Selecting previously unselected package cuda-gpu-library-advisor-10-1.\n",
            "Preparing to unpack .../18-cuda-gpu-library-advisor-10-1_10.1.243-1_amd64.deb ...\n",
            "Unpacking cuda-gpu-library-advisor-10-1 (10.1.243-1) ...\n",
            "Selecting previously unselected package cuda-nvtx-10-1.\n",
            "Preparing to unpack .../19-cuda-nvtx-10-1_10.1.243-1_amd64.deb ...\n",
            "Unpacking cuda-nvtx-10-1 (10.1.243-1) ...\n",
            "Selecting previously unselected package cuda-command-line-tools-10-1.\n",
            "Preparing to unpack .../20-cuda-command-line-tools-10-1_10.1.243-1_amd64.deb ...\n",
            "Unpacking cuda-command-line-tools-10-1 (10.1.243-1) ...\n",
            "Selecting previously unselected package cuda-nsight-10-1.\n",
            "Preparing to unpack .../21-cuda-nsight-10-1_10.1.243-1_amd64.deb ...\n",
            "Unpacking cuda-nsight-10-1 (10.1.243-1) ...\n",
            "Selecting previously unselected package cuda-nvvp-10-1.\n",
            "Preparing to unpack .../22-cuda-nvvp-10-1_10.1.243-1_amd64.deb ...\n",
            "Unpacking cuda-nvvp-10-1 (10.1.243-1) ...\n",
            "Selecting previously unselected package cuda-nvrtc-10-1.\n",
            "Preparing to unpack .../23-cuda-nvrtc-10-1_10.1.243-1_amd64.deb ...\n",
            "Unpacking cuda-nvrtc-10-1 (10.1.243-1) ...\n",
            "Selecting previously unselected package cuda-nvrtc-dev-10-1.\n",
            "Preparing to unpack .../24-cuda-nvrtc-dev-10-1_10.1.243-1_amd64.deb ...\n",
            "Unpacking cuda-nvrtc-dev-10-1 (10.1.243-1) ...\n",
            "Selecting previously unselected package cuda-cusolver-10-1.\n",
            "Preparing to unpack .../25-cuda-cusolver-10-1_10.1.243-1_amd64.deb ...\n",
            "Unpacking cuda-cusolver-10-1 (10.1.243-1) ...\n",
            "Selecting previously unselected package cuda-cusolver-dev-10-1.\n",
            "Preparing to unpack .../26-cuda-cusolver-dev-10-1_10.1.243-1_amd64.deb ...\n",
            "Unpacking cuda-cusolver-dev-10-1 (10.1.243-1) ...\n",
            "Selecting previously unselected package libcublas10.\n",
            "Preparing to unpack .../27-libcublas10_10.2.1.243-1_amd64.deb ...\n",
            "Unpacking libcublas10 (10.2.1.243-1) ...\n",
            "Selecting previously unselected package libcublas-dev.\n",
            "Preparing to unpack .../28-libcublas-dev_10.2.1.243-1_amd64.deb ...\n",
            "Unpacking libcublas-dev (10.2.1.243-1) ...\n",
            "Selecting previously unselected package cuda-cufft-10-1.\n",
            "Preparing to unpack .../29-cuda-cufft-10-1_10.1.243-1_amd64.deb ...\n",
            "Unpacking cuda-cufft-10-1 (10.1.243-1) ...\n",
            "Selecting previously unselected package cuda-cufft-dev-10-1.\n",
            "Preparing to unpack .../30-cuda-cufft-dev-10-1_10.1.243-1_amd64.deb ...\n",
            "Unpacking cuda-cufft-dev-10-1 (10.1.243-1) ...\n",
            "Selecting previously unselected package cuda-curand-10-1.\n",
            "Preparing to unpack .../31-cuda-curand-10-1_10.1.243-1_amd64.deb ...\n",
            "Unpacking cuda-curand-10-1 (10.1.243-1) ...\n",
            "Selecting previously unselected package cuda-curand-dev-10-1.\n",
            "Preparing to unpack .../32-cuda-curand-dev-10-1_10.1.243-1_amd64.deb ...\n",
            "Unpacking cuda-curand-dev-10-1 (10.1.243-1) ...\n",
            "Selecting previously unselected package cuda-cusparse-10-1.\n",
            "Preparing to unpack .../33-cuda-cusparse-10-1_10.1.243-1_amd64.deb ...\n",
            "Unpacking cuda-cusparse-10-1 (10.1.243-1) ...\n",
            "Selecting previously unselected package cuda-cusparse-dev-10-1.\n",
            "Preparing to unpack .../34-cuda-cusparse-dev-10-1_10.1.243-1_amd64.deb ...\n",
            "Unpacking cuda-cusparse-dev-10-1 (10.1.243-1) ...\n",
            "Selecting previously unselected package cuda-npp-10-1.\n",
            "Preparing to unpack .../35-cuda-npp-10-1_10.1.243-1_amd64.deb ...\n",
            "Unpacking cuda-npp-10-1 (10.1.243-1) ...\n",
            "Selecting previously unselected package cuda-npp-dev-10-1.\n",
            "Preparing to unpack .../36-cuda-npp-dev-10-1_10.1.243-1_amd64.deb ...\n",
            "Unpacking cuda-npp-dev-10-1 (10.1.243-1) ...\n",
            "Selecting previously unselected package cuda-nvml-dev-10-1.\n",
            "Preparing to unpack .../37-cuda-nvml-dev-10-1_10.1.243-1_amd64.deb ...\n",
            "Unpacking cuda-nvml-dev-10-1 (10.1.243-1) ...\n",
            "Selecting previously unselected package cuda-nvjpeg-10-1.\n",
            "Preparing to unpack .../38-cuda-nvjpeg-10-1_10.1.243-1_amd64.deb ...\n",
            "Unpacking cuda-nvjpeg-10-1 (10.1.243-1) ...\n",
            "Selecting previously unselected package cuda-nvjpeg-dev-10-1.\n",
            "Preparing to unpack .../39-cuda-nvjpeg-dev-10-1_10.1.243-1_amd64.deb ...\n",
            "Unpacking cuda-nvjpeg-dev-10-1 (10.1.243-1) ...\n",
            "Selecting previously unselected package nsight-compute-2019.4.0.\n",
            "Preparing to unpack .../40-nsight-compute-2019.4.0_2019.4.0.12-1_amd64.deb ...\n",
            "Unpacking nsight-compute-2019.4.0 (2019.4.0.12-1) ...\n",
            "Selecting previously unselected package cuda-nsight-compute-10-1.\n",
            "Preparing to unpack .../41-cuda-nsight-compute-10-1_10.1.243-1_amd64.deb ...\n",
            "Unpacking cuda-nsight-compute-10-1 (10.1.243-1) ...\n",
            "Selecting previously unselected package nsight-systems-2019.3.7.\n",
            "Preparing to unpack .../42-nsight-systems-2019.3.7_2019.3.7.5-3837e03_amd64.deb ...\n",
            "Unpacking nsight-systems-2019.3.7 (2019.3.7.5-3837e03) ...\n",
            "Selecting previously unselected package cuda-nsight-systems-10-1.\n",
            "Preparing to unpack .../43-cuda-nsight-systems-10-1_10.1.243-1_amd64.deb ...\n",
            "Unpacking cuda-nsight-systems-10-1 (10.1.243-1) ...\n",
            "Selecting previously unselected package cuda-nvgraph-10-1.\n",
            "Preparing to unpack .../44-cuda-nvgraph-10-1_10.1.243-1_amd64.deb ...\n",
            "Unpacking cuda-nvgraph-10-1 (10.1.243-1) ...\n",
            "Selecting previously unselected package cuda-nvgraph-dev-10-1.\n",
            "Preparing to unpack .../45-cuda-nvgraph-dev-10-1_10.1.243-1_amd64.deb ...\n",
            "Unpacking cuda-nvgraph-dev-10-1 (10.1.243-1) ...\n",
            "Selecting previously unselected package cuda-visual-tools-10-1.\n",
            "Preparing to unpack .../46-cuda-visual-tools-10-1_10.1.243-1_amd64.deb ...\n",
            "Unpacking cuda-visual-tools-10-1 (10.1.243-1) ...\n",
            "Selecting previously unselected package cuda-tools-10-1.\n",
            "Preparing to unpack .../47-cuda-tools-10-1_10.1.243-1_amd64.deb ...\n",
            "Unpacking cuda-tools-10-1 (10.1.243-1) ...\n",
            "Selecting previously unselected package cuda-samples-10-1.\n",
            "Preparing to unpack .../48-cuda-samples-10-1_10.1.243-1_amd64.deb ...\n",
            "Unpacking cuda-samples-10-1 (10.1.243-1) ...\n",
            "Selecting previously unselected package cuda-documentation-10-1.\n",
            "Preparing to unpack .../49-cuda-documentation-10-1_10.1.243-1_amd64.deb ...\n",
            "Unpacking cuda-documentation-10-1 (10.1.243-1) ...\n",
            "Selecting previously unselected package cuda-libraries-dev-10-1.\n",
            "Preparing to unpack .../50-cuda-libraries-dev-10-1_10.1.243-1_amd64.deb ...\n",
            "Unpacking cuda-libraries-dev-10-1 (10.1.243-1) ...\n",
            "Selecting previously unselected package cuda-toolkit-10-1.\n",
            "Preparing to unpack .../51-cuda-toolkit-10-1_10.1.243-1_amd64.deb ...\n",
            "Unpacking cuda-toolkit-10-1 (10.1.243-1) ...\n",
            "Selecting previously unselected package cuda-libraries-10-1.\n",
            "Preparing to unpack .../52-cuda-libraries-10-1_10.1.243-1_amd64.deb ...\n",
            "Unpacking cuda-libraries-10-1 (10.1.243-1) ...\n",
            "Selecting previously unselected package cuda-runtime-10-1.\n",
            "Preparing to unpack .../53-cuda-runtime-10-1_10.1.243-1_amd64.deb ...\n",
            "Unpacking cuda-runtime-10-1 (10.1.243-1) ...\n",
            "Selecting previously unselected package cuda-demo-suite-10-1.\n",
            "Preparing to unpack .../54-cuda-demo-suite-10-1_10.1.243-1_amd64.deb ...\n",
            "Unpacking cuda-demo-suite-10-1 (10.1.243-1) ...\n",
            "Selecting previously unselected package cuda-10-1.\n",
            "Preparing to unpack .../55-cuda-10-1_10.1.243-1_amd64.deb ...\n",
            "Unpacking cuda-10-1 (10.1.243-1) ...\n",
            "Selecting previously unselected package cuda.\n",
            "Preparing to unpack .../56-cuda_10.1.243-1_amd64.deb ...\n",
            "Unpacking cuda (10.1.243-1) ...\n",
            "Selecting previously unselected package libasan2:amd64.\n",
            "Preparing to unpack .../57-libasan2_5.5.0-12ubuntu1_amd64.deb ...\n",
            "Unpacking libasan2:amd64 (5.5.0-12ubuntu1) ...\n",
            "Selecting previously unselected package libmpx0:amd64.\n",
            "Preparing to unpack .../58-libmpx0_5.5.0-12ubuntu1_amd64.deb ...\n",
            "Unpacking libmpx0:amd64 (5.5.0-12ubuntu1) ...\n",
            "Selecting previously unselected package libgcc-5-dev:amd64.\n",
            "Preparing to unpack .../59-libgcc-5-dev_5.5.0-12ubuntu1_amd64.deb ...\n",
            "Unpacking libgcc-5-dev:amd64 (5.5.0-12ubuntu1) ...\n",
            "Selecting previously unselected package gcc-5.\n",
            "Preparing to unpack .../60-gcc-5_5.5.0-12ubuntu1_amd64.deb ...\n",
            "Unpacking gcc-5 (5.5.0-12ubuntu1) ...\n",
            "Selecting previously unselected package libstdc++-5-dev:amd64.\n",
            "Preparing to unpack .../61-libstdc++-5-dev_5.5.0-12ubuntu1_amd64.deb ...\n",
            "Unpacking libstdc++-5-dev:amd64 (5.5.0-12ubuntu1) ...\n",
            "Selecting previously unselected package g++-5.\n",
            "Preparing to unpack .../62-g++-5_5.5.0-12ubuntu1_amd64.deb ...\n",
            "Unpacking g++-5 (5.5.0-12ubuntu1) ...\n",
            "Processing triggers for mime-support (3.60ubuntu1) ...\n",
            "Setting up nsight-compute-2019.4.0 (2019.4.0.12-1) ...\n",
            "Setting up cuda-license-10-1 (10.1.243-1) ...\n",
            "*** LICENSE AGREEMENT ***\n",
            "By using this software you agree to fully comply with the terms and \n",
            "conditions of the EULA (End User License Agreement). The EULA is located\n",
            "at /usr/local/cuda-10.1/doc/EULA.txt. The EULA can also be found at\n",
            "http://docs.nvidia.com/cuda/eula/index.html. If you do not agree to the\n",
            "terms and conditions of the EULA, do not use the software.\n",
            "\n",
            "Setting up cuda-cusparse-10-1 (10.1.243-1) ...\n",
            "Setting up nsight-systems-2019.3.7 (2019.3.7.5-3837e03) ...\n",
            "update-alternatives: using /opt/nvidia/nsight-systems/2019.3.7/Target-x86_64/x86_64/nsys to provide /usr/local/bin/nsys (nsys) in auto mode\n",
            "update-alternatives: using /opt/nvidia/nsight-systems/2019.3.7/Host-x86_64/nsight-sys to provide /usr/local/bin/nsight-sys (nsight-sys) in auto mode\n",
            "update-alternatives: using /opt/nvidia/nsight-systems/2019.3.7/Host-x86_64/nsys-exporter to provide /usr/local/bin/nsys-exporter (nsys-exporter) in auto mode\n",
            "Setting up cuda-nvjpeg-10-1 (10.1.243-1) ...\n",
            "Setting up cuda-nsight-10-1 (10.1.243-1) ...\n",
            "Setting up cuda-nvdisasm-10-1 (10.1.243-1) ...\n",
            "Setting up cuda-nvml-dev-10-1 (10.1.243-1) ...\n",
            "Setting up cuda-sanitizer-api-10-1 (10.1.243-1) ...\n",
            "Setting up cuda-nvjpeg-dev-10-1 (10.1.243-1) ...\n",
            "Setting up cuda-cufft-10-1 (10.1.243-1) ...\n",
            "Setting up cuda-nvprof-10-1 (10.1.243-1) ...\n",
            "Setting up cuda-nvrtc-10-1 (10.1.243-1) ...\n",
            "Setting up libisl15:amd64 (0.18-4) ...\n",
            "Setting up libcublas10 (10.2.1.243-1) ...\n",
            "Setting up libcublas-dev (10.2.1.243-1) ...\n",
            "Processing triggers for libc-bin (2.27-3ubuntu1) ...\n",
            "Setting up cuda-npp-10-1 (10.1.243-1) ...\n",
            "Setting up cuda-cufft-dev-10-1 (10.1.243-1) ...\n",
            "Processing triggers for man-db (2.8.3-2ubuntu0.1) ...\n",
            "Setting up cuda-nvvp-10-1 (10.1.243-1) ...\n",
            "Setting up cuda-driver-dev-10-1 (10.1.243-1) ...\n",
            "Setting up cuda-cuobjdump-10-1 (10.1.243-1) ...\n",
            "Setting up cuda-nsight-systems-10-1 (10.1.243-1) ...\n",
            "Setting up cuda-gdb-10-1 (10.1.243-1) ...\n",
            "Setting up gcc-5-base:amd64 (5.5.0-12ubuntu1) ...\n",
            "Setting up cuda-nsight-compute-10-1 (10.1.243-1) ...\n",
            "Setting up cuda-cudart-10-1 (10.1.243-1) ...\n",
            "Setting up cuda-npp-dev-10-1 (10.1.243-1) ...\n",
            "Setting up cuda-cusolver-10-1 (10.1.243-1) ...\n",
            "Setting up libmpx0:amd64 (5.5.0-12ubuntu1) ...\n",
            "Setting up cuda-misc-headers-10-1 (10.1.243-1) ...\n",
            "Setting up cuda-nvtx-10-1 (10.1.243-1) ...\n",
            "Setting up cuda-curand-10-1 (10.1.243-1) ...\n",
            "Setting up cuda-cusparse-dev-10-1 (10.1.243-1) ...\n",
            "Setting up cuda-gpu-library-advisor-10-1 (10.1.243-1) ...\n",
            "Setting up cuda-nvgraph-10-1 (10.1.243-1) ...\n",
            "Setting up cuda-nvprune-10-1 (10.1.243-1) ...\n",
            "Setting up cuda-memcheck-10-1 (10.1.243-1) ...\n",
            "Setting up cuda-cudart-dev-10-1 (10.1.243-1) ...\n",
            "Setting up libasan2:amd64 (5.5.0-12ubuntu1) ...\n",
            "Setting up cuda-nvrtc-dev-10-1 (10.1.243-1) ...\n",
            "Setting up cuda-curand-dev-10-1 (10.1.243-1) ...\n",
            "Setting up cuda-cusolver-dev-10-1 (10.1.243-1) ...\n",
            "Setting up libgcc-5-dev:amd64 (5.5.0-12ubuntu1) ...\n",
            "Setting up cpp-5 (5.5.0-12ubuntu1) ...\n",
            "Setting up cuda-nvgraph-dev-10-1 (10.1.243-1) ...\n",
            "Setting up libstdc++-5-dev:amd64 (5.5.0-12ubuntu1) ...\n",
            "Setting up cuda-libraries-10-1 (10.1.243-1) ...\n",
            "Setting up cuda-nvcc-10-1 (10.1.243-1) ...\n",
            "Setting up cuda-runtime-10-1 (10.1.243-1) ...\n",
            "Setting up cuda-compiler-10-1 (10.1.243-1) ...\n",
            "Setting up cuda-demo-suite-10-1 (10.1.243-1) ...\n",
            "Setting up cuda-visual-tools-10-1 (10.1.243-1) ...\n",
            "Setting up cuda-libraries-dev-10-1 (10.1.243-1) ...\n",
            "Setting up gcc-5 (5.5.0-12ubuntu1) ...\n",
            "Setting up g++-5 (5.5.0-12ubuntu1) ...\n",
            "Setting up cuda-samples-10-1 (10.1.243-1) ...\n",
            "Setting up cuda-cupti-10-1 (10.1.243-1) ...\n",
            "Setting up cuda-documentation-10-1 (10.1.243-1) ...\n",
            "Setting up cuda-command-line-tools-10-1 (10.1.243-1) ...\n",
            "Setting up cuda-tools-10-1 (10.1.243-1) ...\n",
            "Setting up cuda-toolkit-10-1 (10.1.243-1) ...\n",
            "Setting up cuda-10-1 (10.1.243-1) ...\n",
            "Setting up cuda (10.1.243-1) ...\n",
            "Processing triggers for libc-bin (2.27-3ubuntu1) ...\n"
          ],
          "name": "stdout"
        }
      ]
    },
    {
      "cell_type": "code",
      "metadata": {
        "id": "zoqglXEBj-02",
        "colab_type": "code",
        "outputId": "73ecf00e-6d28-40f6-a7cf-ffe97a48b8c8",
        "colab": {
          "base_uri": "https://localhost:8080/",
          "height": 109
        }
      },
      "source": [
        "!ln -s /usr/bin/gcc-5 /usr/local/cuda/bin/gcc;\n",
        "!ln -s /usr/bin/g++-5 /usr/local/cuda/bin/g++;\n",
        "!apt install cuda-8.0;"
      ],
      "execution_count": 7,
      "outputs": [
        {
          "output_type": "stream",
          "text": [
            "Reading package lists... Done\n",
            "Building dependency tree       \n",
            "Reading state information... Done\n",
            "Note, selecting 'libcuda-8.0-1' for regex 'cuda-8.0'\n",
            "0 upgraded, 0 newly installed, 0 to remove and 125 not upgraded.\n"
          ],
          "name": "stdout"
        }
      ]
    },
    {
      "cell_type": "code",
      "metadata": {
        "id": "IzaD9e62epuL",
        "colab_type": "code",
        "colab": {}
      },
      "source": [
        "import os\n",
        "os.environ['PATH'] += ':/usr/local/cuda/bin'"
      ],
      "execution_count": 0,
      "outputs": []
    },
    {
      "cell_type": "code",
      "metadata": {
        "id": "ayx2gqk8iICV",
        "colab_type": "code",
        "outputId": "61b603c6-e5ee-43c6-cd00-c66e976327df",
        "colab": {
          "base_uri": "https://localhost:8080/",
          "height": 127
        }
      },
      "source": [
        "!apt install gcc-5 g++-5 -y"
      ],
      "execution_count": 9,
      "outputs": [
        {
          "output_type": "stream",
          "text": [
            "\rReading package lists... 0%\r\rReading package lists... 0%\r\rReading package lists... 0%\r\rReading package lists... 7%\r\rReading package lists... 7%\r\rReading package lists... 7%\r\rReading package lists... 7%\r\rReading package lists... 67%\r\rReading package lists... 67%\r\rReading package lists... 68%\r\rReading package lists... 68%\r\rReading package lists... 74%\r\rReading package lists... 74%\r\rReading package lists... 74%\r\rReading package lists... 74%\r\rReading package lists... 83%\r\rReading package lists... 83%\r\rReading package lists... 83%\r\rReading package lists... 83%\r\rReading package lists... 83%\r\rReading package lists... 83%\r\rReading package lists... 83%\r\rReading package lists... 83%\r\rReading package lists... 88%\r\rReading package lists... 88%\r\rReading package lists... 88%\r\rReading package lists... 88%\r\rReading package lists... 88%\r\rReading package lists... 93%\r\rReading package lists... 93%\r\rReading package lists... 93%\r\rReading package lists... 93%\r\rReading package lists... 94%\r\rReading package lists... 94%\r\rReading package lists... 94%\r\rReading package lists... 94%\r\rReading package lists... 95%\r\rReading package lists... 95%\r\rReading package lists... 98%\r\rReading package lists... 98%\r\rReading package lists... 98%\r\rReading package lists... 98%\r\rReading package lists... Done\r\n",
            "\rBuilding dependency tree... 0%\r\rBuilding dependency tree... 0%\r\rBuilding dependency tree... 50%\r\rBuilding dependency tree... 50%\r\rBuilding dependency tree       \r\n",
            "\rReading state information... 0%\r\rReading state information... 0%\r\rReading state information... Done\r\n",
            "g++-5 is already the newest version (5.5.0-12ubuntu1).\n",
            "gcc-5 is already the newest version (5.5.0-12ubuntu1).\n",
            "0 upgraded, 0 newly installed, 0 to remove and 125 not upgraded.\n"
          ],
          "name": "stdout"
        }
      ]
    },
    {
      "cell_type": "code",
      "metadata": {
        "id": "MFe_6wdBiLcy",
        "colab_type": "code",
        "colab": {}
      },
      "source": [
        "import os\n",
        "os.environ['PATH'] += ':/usr/local/cuda/bin'"
      ],
      "execution_count": 0,
      "outputs": []
    },
    {
      "cell_type": "code",
      "metadata": {
        "id": "1UT9EIGZiN12",
        "colab_type": "code",
        "outputId": "77930e40-88d1-4e7a-aa5c-53bb5a35a7d6",
        "colab": {
          "base_uri": "https://localhost:8080/",
          "height": 90
        }
      },
      "source": [
        "!nvcc --version"
      ],
      "execution_count": 11,
      "outputs": [
        {
          "output_type": "stream",
          "text": [
            "nvcc: NVIDIA (R) Cuda compiler driver\n",
            "Copyright (c) 2005-2019 NVIDIA Corporation\n",
            "Built on Sun_Jul_28_19:07:16_PDT_2019\n",
            "Cuda compilation tools, release 10.1, V10.1.243\n"
          ],
          "name": "stdout"
        }
      ]
    },
    {
      "cell_type": "code",
      "metadata": {
        "id": "zjr4TsIFk21Z",
        "colab_type": "code",
        "outputId": "1b26010e-cd72-4825-9cea-ade3f10d53d7",
        "colab": {
          "base_uri": "https://localhost:8080/",
          "height": 35
        }
      },
      "source": [
        "%%file version.cu\n",
        "#include <thrust/version.h>\n",
        "#include <iostream>\n",
        "\n",
        "int main(void)\n",
        "{\n",
        "  int major = THRUST_MAJOR_VERSION;\n",
        "  int minor = THRUST_MINOR_VERSION;\n",
        "\n",
        "  std::cout << \"Thrust v\" << major << \".\" << minor << std::endl;\n",
        "\n",
        "  return 0;\n",
        "}"
      ],
      "execution_count": 12,
      "outputs": [
        {
          "output_type": "stream",
          "text": [
            "Writing version.cu\n"
          ],
          "name": "stdout"
        }
      ]
    },
    {
      "cell_type": "code",
      "metadata": {
        "id": "7lVHw-Ezlf_L",
        "colab_type": "code",
        "outputId": "b5bd8d42-6cd4-482e-cd81-e51d90c4d30c",
        "colab": {
          "base_uri": "https://localhost:8080/",
          "height": 35
        }
      },
      "source": [
        "!nvcc version.cu -o version\n",
        "!./version"
      ],
      "execution_count": 13,
      "outputs": [
        {
          "output_type": "stream",
          "text": [
            "Thrust v1.9\n"
          ],
          "name": "stdout"
        }
      ]
    },
    {
      "cell_type": "code",
      "metadata": {
        "id": "DXERV5wRlqX3",
        "colab_type": "code",
        "outputId": "468abfdb-d53a-4e40-be3d-e493a8b947c1",
        "colab": {
          "base_uri": "https://localhost:8080/",
          "height": 35
        }
      },
      "source": [
        "%%file thrust_example.cu\n",
        "#include <thrust/host_vector.h>\n",
        "#include <thrust/device_vector.h>\n",
        "#include <thrust/generate.h>\n",
        "#include <thrust/sort.h>\n",
        "#include <thrust/copy.h>\n",
        "#include <algorithm>\n",
        "#include <cstdlib>\n",
        "\n",
        "int main(void)\n",
        "{\n",
        "  // generate 32M random numbers serially\n",
        "  thrust::host_vector<int> h_vec(32 << 20);\n",
        "  std::generate(h_vec.begin(), h_vec.end(), rand);\n",
        "\n",
        "  // transfer data to the device\n",
        "  thrust::device_vector<int> d_vec = h_vec;\n",
        "\n",
        "  // sort data on the device \n",
        "  thrust::sort(d_vec.begin(), d_vec.end());\n",
        "\n",
        "  // transfer data back to host\n",
        "  thrust::copy(d_vec.begin(), d_vec.end(), h_vec.begin());\n",
        "\n",
        "  return 0;\n",
        "}"
      ],
      "execution_count": 14,
      "outputs": [
        {
          "output_type": "stream",
          "text": [
            "Writing thrust_example.cu\n"
          ],
          "name": "stdout"
        }
      ]
    },
    {
      "cell_type": "code",
      "metadata": {
        "id": "PSqPaE0amBwB",
        "colab_type": "code",
        "colab": {}
      },
      "source": [
        "!nvcc thrust_example.cu -o thrust_example\n",
        "!./thrust_example\n"
      ],
      "execution_count": 0,
      "outputs": []
    },
    {
      "cell_type": "code",
      "metadata": {
        "id": "v6gCqNHwmJp1",
        "colab_type": "code",
        "outputId": "8741108a-e73d-4831-a532-626f5873a59c",
        "colab": {
          "base_uri": "https://localhost:8080/",
          "height": 606
        }
      },
      "source": [
        "!nvprof ./thrust_example"
      ],
      "execution_count": 16,
      "outputs": [
        {
          "output_type": "stream",
          "text": [
            "==2388== NVPROF is profiling process 2388, command: ./thrust_example\n",
            "==2388== Profiling application: ./thrust_example\n",
            "==2388== Profiling result:\n",
            "            Type  Time(%)      Time     Calls       Avg       Min       Max  Name\n",
            " GPU activities:   40.16%  30.607ms         1  30.607ms  30.607ms  30.607ms  [CUDA memcpy HtoD]\n",
            "                   35.57%  27.107ms         1  27.107ms  27.107ms  27.107ms  [CUDA memcpy DtoH]\n",
            "                   10.45%  7.9653ms         4  1.9913ms  1.9046ms  2.0253ms  void thrust::cuda_cub::cub::DeviceRadixSortDownsweepKernel<thrust::cuda_cub::cub::DeviceRadixSortPolicy<int, thrust::cuda_cub::cub::NullType, int>::Policy700, bool=0, bool=0, int, thrust::cuda_cub::cub::NullType, int>(thrust::cuda_cub::cub::DeviceRadixSortPolicy<int, thrust::cuda_cub::cub::NullType, int>::Policy700 const *, thrust::cuda_cub::cub::DeviceRadixSortDownsweepKernel<thrust::cuda_cub::cub::DeviceRadixSortPolicy<int, thrust::cuda_cub::cub::NullType, int>::Policy700, bool=0, bool=0, int, thrust::cuda_cub::cub::NullType, int>*, bool=0 const *, thrust::cuda_cub::cub::DeviceRadixSortDownsweepKernel<thrust::cuda_cub::cub::DeviceRadixSortPolicy<int, thrust::cuda_cub::cub::NullType, int>::Policy700, bool=0, bool=0, int, thrust::cuda_cub::cub::NullType, int>**, bool=0*, thrust::cuda_cub::cub::DeviceRadixSortDownsweepKernel<thrust::cuda_cub::cub::DeviceRadixSortPolicy<int, thrust::cuda_cub::cub::NullType, int>::Policy700, bool=0, bool=0, int, thrust::cuda_cub::cub::NullType, int>**, int, int, thrust::cuda_cub::cub::GridEvenShare<thrust::cuda_cub::cub::DeviceRadixSortDownsweepKernel<thrust::cuda_cub::cub::DeviceRadixSortPolicy<int, thrust::cuda_cub::cub::NullType, int>::Policy700, bool=0, bool=0, int, thrust::cuda_cub::cub::NullType, int>**>)\n",
            "                    6.70%  5.1039ms         3  1.7013ms  1.6993ms  1.7046ms  void thrust::cuda_cub::cub::DeviceRadixSortDownsweepKernel<thrust::cuda_cub::cub::DeviceRadixSortPolicy<int, thrust::cuda_cub::cub::NullType, int>::Policy700, bool=1, bool=0, int, thrust::cuda_cub::cub::NullType, int>(thrust::cuda_cub::cub::DeviceRadixSortPolicy<int, thrust::cuda_cub::cub::NullType, int>::Policy700 const *, thrust::cuda_cub::cub::DeviceRadixSortDownsweepKernel<thrust::cuda_cub::cub::DeviceRadixSortPolicy<int, thrust::cuda_cub::cub::NullType, int>::Policy700, bool=1, bool=0, int, thrust::cuda_cub::cub::NullType, int>*, bool=1 const *, thrust::cuda_cub::cub::DeviceRadixSortDownsweepKernel<thrust::cuda_cub::cub::DeviceRadixSortPolicy<int, thrust::cuda_cub::cub::NullType, int>::Policy700, bool=1, bool=0, int, thrust::cuda_cub::cub::NullType, int>**, bool=0*, thrust::cuda_cub::cub::DeviceRadixSortDownsweepKernel<thrust::cuda_cub::cub::DeviceRadixSortPolicy<int, thrust::cuda_cub::cub::NullType, int>::Policy700, bool=1, bool=0, int, thrust::cuda_cub::cub::NullType, int>**, int, int, thrust::cuda_cub::cub::GridEvenShare<thrust::cuda_cub::cub::DeviceRadixSortDownsweepKernel<thrust::cuda_cub::cub::DeviceRadixSortPolicy<int, thrust::cuda_cub::cub::NullType, int>::Policy700, bool=1, bool=0, int, thrust::cuda_cub::cub::NullType, int>**>)\n",
            "                    2.89%  2.2016ms         4  550.40us  549.56us  551.67us  void thrust::cuda_cub::cub::DeviceRadixSortUpsweepKernel<thrust::cuda_cub::cub::DeviceRadixSortPolicy<int, thrust::cuda_cub::cub::NullType, int>::Policy700, bool=0, bool=0, int, int>(thrust::cuda_cub::cub::DeviceRadixSortPolicy<int, thrust::cuda_cub::cub::NullType, int>::Policy700 const *, bool=0*, thrust::cuda_cub::cub::DeviceRadixSortPolicy<int, thrust::cuda_cub::cub::NullType, int>::Policy700 const *, int, int, thrust::cuda_cub::cub::GridEvenShare<thrust::cuda_cub::cub::DeviceRadixSortPolicy<int, thrust::cuda_cub::cub::NullType, int>::Policy700 const *>)\n",
            "                    2.10%  1.6025ms         3  534.18us  529.46us  537.40us  void thrust::cuda_cub::cub::DeviceRadixSortUpsweepKernel<thrust::cuda_cub::cub::DeviceRadixSortPolicy<int, thrust::cuda_cub::cub::NullType, int>::Policy700, bool=1, bool=0, int, int>(thrust::cuda_cub::cub::DeviceRadixSortPolicy<int, thrust::cuda_cub::cub::NullType, int>::Policy700 const *, bool=1*, thrust::cuda_cub::cub::DeviceRadixSortPolicy<int, thrust::cuda_cub::cub::NullType, int>::Policy700 const *, int, int, thrust::cuda_cub::cub::GridEvenShare<thrust::cuda_cub::cub::DeviceRadixSortPolicy<int, thrust::cuda_cub::cub::NullType, int>::Policy700 const *>)\n",
            "                    1.44%  1.0995ms         1  1.0995ms  1.0995ms  1.0995ms  void thrust::cuda_cub::core::_kernel_agent<thrust::cuda_cub::__parallel_for::ParallelForAgent<thrust::cuda_cub::__transform::unary_transform_f<int*, int*, thrust::cuda_cub::__transform::no_stencil_tag, thrust::identity<int>, thrust::cuda_cub::__transform::always_true_predicate>, long>, thrust::cuda_cub::__transform::unary_transform_f<int*, int*, thrust::cuda_cub::__transform::no_stencil_tag, thrust::identity<int>, thrust::cuda_cub::__transform::always_true_predicate>, long>(int*, thrust::cuda_cub::__transform::no_stencil_tag)\n",
            "                    0.68%  518.49us         7  74.069us  73.850us  74.426us  void thrust::cuda_cub::cub::RadixSortScanBinsKernel<thrust::cuda_cub::cub::DeviceRadixSortPolicy<int, thrust::cuda_cub::cub::NullType, int>::Policy700, int>(thrust::cuda_cub::cub::NullType*, int)\n",
            "      API calls:   71.03%  191.20ms         2  95.599ms  992.30us  190.21ms  cudaMalloc\n",
            "                   21.65%  58.273ms         2  29.136ms  27.453ms  30.820ms  cudaMemcpyAsync\n",
            "                    6.79%  18.269ms         1  18.269ms  18.269ms  18.269ms  cudaDeviceSynchronize\n",
            "                    0.20%  527.02us         2  263.51us  229.34us  297.68us  cudaFree\n",
            "                    0.12%  333.82us         1  333.82us  333.82us  333.82us  cuDeviceTotalMem\n",
            "                    0.10%  260.34us        22  11.833us  7.8750us  43.610us  cudaLaunchKernel\n",
            "                    0.05%  128.73us        97  1.3270us     132ns  53.999us  cuDeviceGetAttribute\n",
            "                    0.03%  89.654us         2  44.827us  5.0130us  84.641us  cudaStreamSynchronize\n",
            "                    0.01%  25.018us         3  8.3390us  5.3200us  11.840us  cudaFuncGetAttributes\n",
            "                    0.01%  24.424us         1  24.424us  24.424us  24.424us  cuDeviceGetName\n",
            "                    0.00%  12.415us        12  1.0340us     508ns  2.5400us  cudaOccupancyMaxActiveBlocksPerMultiprocessorWithFlags\n",
            "                    0.00%  5.2210us        23     227ns     180ns     425ns  cudaPeekAtLastError\n",
            "                    0.00%  3.9250us         3  1.3080us  1.0480us  1.5060us  cudaGetDevice\n",
            "                    0.00%  3.3900us         1  3.3900us  3.3900us  3.3900us  cuDeviceGetPCIBusId\n",
            "                    0.00%  3.2810us         3  1.0930us     955ns  1.1760us  cudaDeviceGetAttribute\n",
            "                    0.00%  1.9300us         3     643ns     146ns  1.5260us  cuDeviceGetCount\n",
            "                    0.00%  1.2560us         2     628ns     232ns  1.0240us  cuDeviceGet\n",
            "                    0.00%     394ns         1     394ns     394ns     394ns  cudaGetLastError\n",
            "                    0.00%     282ns         1     282ns     282ns     282ns  cuDeviceGetUuid\n"
          ],
          "name": "stdout"
        }
      ]
    },
    {
      "cell_type": "code",
      "metadata": {
        "id": "nKymLb9hnFIZ",
        "colab_type": "code",
        "outputId": "af28e965-6488-479a-a490-a393628a18af",
        "colab": {
          "base_uri": "https://localhost:8080/",
          "height": 35
        }
      },
      "source": [
        "%%file helloworld.cpp\n",
        "#include <iostream>\n",
        "using namespace std;\n",
        "int main(void)\n",
        "{\n",
        "  cout<<\"Hello World This is my first C++ Program\";\n",
        "    \n",
        "  return 0;\n",
        "}"
      ],
      "execution_count": 17,
      "outputs": [
        {
          "output_type": "stream",
          "text": [
            "Writing helloworld.cpp\n"
          ],
          "name": "stdout"
        }
      ]
    },
    {
      "cell_type": "code",
      "metadata": {
        "id": "U2qhZ87X1rB5",
        "colab_type": "code",
        "outputId": "7cfad451-f70c-4171-ef07-cd0039d0cbf9",
        "colab": {
          "base_uri": "https://localhost:8080/",
          "height": 35
        }
      },
      "source": [
        "!nvcc helloworld.cpp -o helloworld\n",
        "!./helloworld"
      ],
      "execution_count": 18,
      "outputs": [
        {
          "output_type": "stream",
          "text": [
            "Hello World This is my first C++ Program"
          ],
          "name": "stdout"
        }
      ]
    },
    {
      "cell_type": "code",
      "metadata": {
        "id": "RzZwAlkZ1q5s",
        "colab_type": "code",
        "outputId": "43c967eb-78f3-49a3-98f2-bc473c3842c0",
        "colab": {
          "base_uri": "https://localhost:8080/",
          "height": 35
        }
      },
      "source": [
        "!nvprof ./helloworld"
      ],
      "execution_count": 19,
      "outputs": [
        {
          "output_type": "stream",
          "text": [
            "Hello World This is my first C++ Program======== Warning: No profile data collected.\n"
          ],
          "name": "stdout"
        }
      ]
    },
    {
      "cell_type": "code",
      "metadata": {
        "id": "zk8AFuIv7sYZ",
        "colab_type": "code",
        "colab": {}
      },
      "source": [
        ""
      ],
      "execution_count": 0,
      "outputs": []
    }
  ]
}